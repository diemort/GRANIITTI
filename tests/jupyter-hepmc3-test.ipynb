{
 "cells": [
  {
   "cell_type": "code",
   "execution_count": 1,
   "metadata": {},
   "outputs": [
    {
     "name": "stdout",
     "output_type": "stream",
     "text": [
      "Hello world\n"
     ]
    }
   ],
   "source": [
    "// C++ xeus-cling kernel installation under conda:\n",
    "//\n",
    "// Step 1:\n",
    "//\n",
    "// conda create -n cling\n",
    "// source activate cling\n",
    "//\n",
    "// Step 2:\n",
    "// conda install -c conda-forge xeus-cling\n",
    "// ----------------------------------------------------\n",
    "// Fixing problem: ValueError: '' does not appear to be an IPv4 or IPv6 address\n",
    "//\n",
    "// $HOME/anaconda3/lib/python3.7/site-packages/notebook/notebookapp.py\n",
    "//    def _valdate_ip(self, proposal):\n",
    "//        value = proposal['value']\n",
    "//        if value == u'*':\n",
    "//            value = u'0.0.0.0' # This line \n",
    "//        return value\n",
    "//\n",
    "//\n",
    "\n",
    "// Library paths\n",
    "#pragma cling add_library_path(\"../obj\")\n",
    "#pragma cling add_library_path(\"$HOME/local/HEPMC3/lib\")\n",
    "#pragma cling add_library_path(\"$HOME/local/LHAPDF/lib\")\n",
    "#pragma cling add_library_path(\"$HOME/local/root/lib\")\n",
    "\n",
    "// Include paths\n",
    "#pragma cling add_include_path(\"../include\")\n",
    "#pragma cling add_include_path(\"../libs\")\n",
    "#pragma cling add_include_path(\"$HOME/local/HEPMC3/include\")\n",
    "#pragma cling add_include_path(\"$HOME/local/LHAPDF/include\")\n",
    "#pragma cling add_include_path(\"$HOME/local/root/include\")\n",
    "\n",
    "// Load shared libraries\n",
    "#pragma cling load(\"libHepMC3.so\")\n",
    "\n",
    "// Use C++14 kernel!!!\n",
    "#pragma cling load(\"libCore.so\")\n",
    "#pragma cling load(\"libHist.so\")\n",
    "#pragma cling load(\"libGpad.so\")\n",
    "#pragma cling load(\"libRIO.so\")\n",
    "/*\n",
    "#pragma cling load(\"libNet.so\")\n",
    "#pragma cling load(\"libGraf.so\")\n",
    "#pragma cling load(\"libGraf3d.so\")\n",
    "#pragma cling load(\"libTree.so\")\n",
    "#pragma cling load(\"libRint.so\")\n",
    "#pragma cling load(\"libPostscript.so\")\n",
    "#pragma cling load(\"libMatrix.so\")\n",
    "#pragma cling load(\"libPhysics.so\")\n",
    "#pragma cling load(\"libMathCore.so\")\n",
    "#pragma cling load(\"libThread.so\")\n",
    "#pragma cling load(\"libGui.so\")\n",
    "#pragma cling load(\"libRooFit.so\")\n",
    "#pragma cling load(\"libMinuit.so\")\n",
    "*/\n",
    "\n",
    "// Note that ROOT drawing commands do not work\n",
    "// --------------------------------------------------------------------------\n",
    "\n",
    "#include <iostream>\n",
    "\n",
    "// ROOT\n",
    "#include \"TCanvas.h\"\n",
    "#include \"TH1.h\"\n",
    "\n",
    "// HepMC3\n",
    "#include \"HepMC3/FourVector.h\"\n",
    "#include \"HepMC3/GenEvent.h\"\n",
    "#include \"HepMC3/GenParticle.h\"\n",
    "#include \"HepMC3/GenVertex.h\"\n",
    "#include \"HepMC3/LHEFAttributes.h\"\n",
    "#include \"HepMC3/Print.h\"\n",
    "#include \"HepMC3/ReaderAscii.h\"\n",
    "#include \"HepMC3/Relatives.h\"\n",
    "#include \"HepMC3/Selector.h\"\n",
    "#include \"HepMC3/WriterAscii.h\"\n",
    "\n",
    "// Own\n",
    "#include \"Graniitti/MH1.h\"\n",
    "\n",
    "\n",
    "std::cout << \"Hello world\" << std::endl;\n"
   ]
  },
  {
   "cell_type": "code",
   "execution_count": 2,
   "metadata": {},
   "outputs": [],
   "source": [
    "void ReadEvents(const std::string& inputfile, std::vector<std::vector<double>>& S) {\n",
    "\n",
    "  // Input and output\n",
    "  HepMC3::ReaderAscii input(inputfile);\n",
    "\n",
    "  int events = 0;\n",
    "\n",
    "  // HepMC3 event object\n",
    "  HepMC3::GenEvent ev(HepMC3::Units::GEV, HepMC3::Units::MM);\n",
    "\n",
    "  // Event loop over all events in HepMC3 file\n",
    "  while (!input.failed()) {\n",
    "      \n",
    "    input.read_event(ev);\n",
    "    if (input.failed()) break;\n",
    "\n",
    "    // Event vector\n",
    "    std::vector<double> x;\n",
    "\n",
    "    // Loop over all particles\n",
    "    for (HepMC3::ConstGenParticlePtr p1 : ev.particles()) {\n",
    "\n",
    "      // Check is final state and pion\n",
    "      if (p1->status() == 1 && std::abs(p1->pid()) < 1000) {\n",
    "\n",
    "        // Take 4-momentum\n",
    "        HepMC3::FourVector pvec = p1->momentum();\n",
    "          \n",
    "        x.push_back(pvec.e());\n",
    "        x.push_back(pvec.px());\n",
    "        x.push_back(pvec.py());\n",
    "        x.push_back(pvec.pz());\n",
    "      }\n",
    "    }\n",
    "    \n",
    "    S.push_back(x);\n",
    "    ++events;\n",
    "\n",
    "    if (events % 1000 == 0) {\n",
    "      std::cout << events << \" events processed\" << std::endl;\n",
    "    }\n",
    "  }\n",
    "  \n",
    "  std::cout << \"Found from input: '\" << inputfile << \"' \" << events << \" events\" << std::endl;\n",
    "}"
   ]
  },
  {
   "cell_type": "code",
   "execution_count": 3,
   "metadata": {},
   "outputs": [],
   "source": [
    "std::string inputfile1 = \"../output/test.hepmc3\";\n",
    "std::vector<std::vector<double>> S1;\n"
   ]
  },
  {
   "cell_type": "code",
   "execution_count": 4,
   "metadata": {},
   "outputs": [
    {
     "name": "stdout",
     "output_type": "stream",
     "text": [
      "Found from input: '../output/test.hepmc3' 100 events\n"
     ]
    }
   ],
   "source": [
    "ReadEvents(inputfile1, S1);\n"
   ]
  },
  {
   "cell_type": "code",
   "execution_count": 5,
   "metadata": {},
   "outputs": [],
   "source": [
    "// Loop over events\n",
    "TH1D* h1 = new TH1D(\"blaa\", \"test\", 100, 0.0, 5.0);\n"
   ]
  },
  {
   "cell_type": "code",
   "execution_count": 6,
   "metadata": {},
   "outputs": [],
   "source": [
    "for (std::size_t i = 0; i < S1.size(); ++i) {\n",
    "    h1->Fill( S1[i].at(1) );\n",
    "}\n"
   ]
  },
  {
   "cell_type": "code",
   "execution_count": 7,
   "metadata": {},
   "outputs": [
    {
     "name": "stdout",
     "output_type": "stream",
     "text": [
      "0.29399\n"
     ]
    },
    {
     "data": {
      "text/plain": [
       "@0x7f33e911e460"
      ]
     },
     "execution_count": 7,
     "metadata": {},
     "output_type": "execute_result"
    }
   ],
   "source": [
    "std::cout << h1->GetMean() << std::endl;\n",
    "\n"
   ]
  },
  {
   "cell_type": "code",
   "execution_count": null,
   "metadata": {},
   "outputs": [],
   "source": []
  },
  {
   "cell_type": "code",
   "execution_count": null,
   "metadata": {},
   "outputs": [],
   "source": []
  }
 ],
 "metadata": {
  "kernelspec": {
   "display_name": "C++14",
   "language": "C++14",
   "name": "xcpp14"
  },
  "language_info": {
   "codemirror_mode": "text/x-c++src",
   "file_extension": ".cpp",
   "mimetype": "text/x-c++src",
   "name": "c++",
   "version": "-std=c++14"
  }
 },
 "nbformat": 4,
 "nbformat_minor": 2
}
